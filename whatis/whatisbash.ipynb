{
 "cells": [
  {
   "cell_type": "markdown",
   "id": "49bc6e56",
   "metadata": {},
   "source": [
    "# What is: Bash"
   ]
  }
 ],
 "metadata": {
  "language_info": {
   "name": "python"
  }
 },
 "nbformat": 4,
 "nbformat_minor": 5
}

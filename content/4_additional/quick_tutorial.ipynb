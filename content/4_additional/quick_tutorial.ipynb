{
 "cells": [
  {
   "cell_type": "markdown",
   "id": "679c2cbb",
   "metadata": {},
   "source": [
    "# Quick Setup Guide for Deploying Courses using Jupyter Book on Github"
   ]
  },
  {
   "cell_type": "markdown",
   "id": "ba24daec",
   "metadata": {},
   "source": [
    "You have some experience in setting up or just want the quickest way to a finished Jupyter Book? This is the page for you. While we can't give you a lot of information in 10 steps, this page condenses the creation and hosting process of Jupyter Books. **Click on the section titles to jump into the respective in-depth tutorials.**\n"
   ]
  },
  {
   "attachments": {},
   "cell_type": "markdown",
   "id": "a9a04687",
   "metadata": {},
   "source": [
    "\n",
    "#### 1. [Make sure you have all the prerequisites installed](https://felixkoerber.github.io/jb/setup.html)\n",
    "Before you start setting up your course using Jupyter Book, make sure you have the following tools installed on your machine:\n",
    "- **Git**: A version control system that helps you keep track of your code changes.\n",
    "- **Jupyter Book**: A tool that helps you build and publish interactive books or documents. You can install Jupyter Book using pip install Jupyter-book.\n",
    "- A **text editor of your choice**: You can use any text editor, such as Visual Studio Code, Sublime Text, or Atom, to create and edit your content.\n",
    "\n",
    "#### 2. [Create a fresh Git Repository for your project](https://felixkoerber.github.io/jb/tutorialcontent/publishing/account.html#start-a-project-setup-a-public-repository)\n",
    "2.1. Go to the GitHub website (https://github.com) and click the plus button in the upper right corner.\n",
    "![GHNewRepo](https://github.com/felixkoerber/jb/blob/main/static/New_repo.jpg?raw=true)\n",
    "\n",
    "</br>\n",
    "\n",
    "2.2. Create a new repository for your course by giving it a name and a description.\n",
    "\n",
    "</br>\n",
    "\n",
    "![GHNewRepo_Description](https://github.com/felixkoerber/jb/blob/main/static/new_repo_example.png?raw=true)\n",
    "\n",
    "</br>\n",
    "\n",
    "2.3. On GitHub, open up the empty project in your browser.\n",
    "-  Navigate to `settings,` `actions,` then `general` to change **Workflow permissions** to **Read and Write Permission** to change the Workflow permissions to Read and Write Permission. This will allow you to push changes to the repository from your local machine.\n",
    "\n",
    "</br>\n",
    "\n",
    "![Workflow_Permissions](https://raw.githubusercontent.com/felixkoerber/jb/0bd9a2930a41bc3f79ad876b603ea5534ef1a23a/static/Workflow_permission.jpg)\n",
    "\n",
    "</br>\n",
    "\n",
    "2.4. Save your changes.\n",
    "\n",
    "2.5. Open up a terminal window and navigate to the location where you want to store your local course copy.\n",
    "\n",
    "2.6. Copy the project's link and clone the repository using the following command: git clone https://github.com/yourprojectname.\n",
    "    \n",
    "#### 3. [Copy our course template](https://felixkoerber.github.io/jb/tutorialcontent/publishing/account.html#working-with-the-course-template)\n",
    "\n",
    "- open our [course template repository](https://github.com/M-earnest/course_template_diler)\n",
    "\n",
    "- click on `code` and then on *Download ZIP*\n",
    "![Download_template](https://github.com/felixkoerber/jb/blob/main/static/Download_template.jpg?raw=true)\n",
    "\n",
    "- Extract the contents of the ZIP file in the folder linked to your GitHub repository.\n",
    "    \n",
    "#### 4. [Create Content](https://felixkoerber.github.io/jb/tutorialcontent/writing/writing.html)\n",
    "\n",
    "- Open the Markdown (.md) or Jupyter (.ipynb) files and copy your interactive content and code.\n",
    "\n",
    "- Make sure to give each file a meaningful name and add a title to each page.\n",
    "\n",
    "- You can use the provided style guide as a reference to see how to implement MyST Markdown effectively.\n",
    "\n",
    "#### 5. [Table of Contents and config](https://felixkoerber.github.io/jb/tutorialcontent/structure.html)\n",
    "\n",
    "-  Once you've created files, open the `_toc.yml.`\n",
    "\n",
    "-  add your newly created files in the sequence of your choice according to our template\n",
    "\n",
    "-  open the `_config.yml`\n",
    "\n",
    "-  Change the title, author, and the location of your GitHub repository.\n",
    "\n",
    "#### 6. [Share it online](https://felixkoerber.github.io/jb/tutorialcontent/publishing/account.html)\n",
    "\n",
    "- In your terminal, navigate to the location of your project and type the following commands:\n",
    "\n",
    "- a. ) `git add .`\n",
    "\n",
    "- b. ) `git commit -m \"my first commit`\n",
    "\n",
    "- c. ) `git push`\n",
    "\n",
    "- Alternatively, use the Gitkraken Client\n",
    "\n",
    "Once you push your repository for the first time, GitHub Actions will build the Book and push it to a dedicated branch.\n",
    "\n",
    "#### 7. Add the pages\n",
    "\n",
    "- On Github, navigate to `settings` and `pages`\n",
    "\n",
    "- Click on `branch` and select `gh-pages.`\n",
    "\n",
    "![Set-Up_Pages](https://github.com/felixkoerber/jb/blob/main/static/Set_Up_Pages.jpg?raw=true)\n",
    "You're all set! Once you're ready, make sure to make your repository public so that others can view your beautiful website.\n",
    "\n",
    "\n"
   ]
  }
 ],
 "metadata": {
  "kernelspec": {
   "display_name": "Python 3 (ipykernel)",
   "language": "python",
   "name": "python3"
  },
  "language_info": {
   "codemirror_mode": {
    "name": "ipython",
    "version": 3
   },
   "file_extension": ".py",
   "mimetype": "text/x-python",
   "name": "python",
   "nbconvert_exporter": "python",
   "pygments_lexer": "ipython3",
   "version": "3.7.6"
  },
  "vscode": {
   "interpreter": {
    "hash": "5289083c3f5abe312d701549a23d918d5df8d2bf6b85b22b433ed91977547b08"
   }
  }
 },
 "nbformat": 4,
 "nbformat_minor": 5
}

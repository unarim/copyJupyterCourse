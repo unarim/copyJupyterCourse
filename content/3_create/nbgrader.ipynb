{
 "cells": [
  {
   "attachments": {},
   "cell_type": "markdown",
   "id": "75d153ed",
   "metadata": {},
   "source": [
    "# Creating automatically gradable coding assignments using nbgrader\n",
    "\n",
    "Grading assignments can feel like a time-consuming chore. This is where automatic grading programs come in handy, although most grading solutions are constrained to a certain data format or are costly.\n",
    "\n",
    "One free solution to this is [nbgrader](https://nbgrader.readthedocs.io/en/stable/), a tool to tool for creating and grading assignments in Jupyter notebooks. \n",
    "Nbgrader allows instructors to create assignments with coding exercises, written responses, and other types of questions, but it mainly focuses on the automatic grading of programming tasks. Written or free-text responses will still have to be evaluated by hand. Nbgrader is, therefore, particularly useful for courses in statistics or data science.\n",
    "Unfortunately, there is also no way of integrating nbgrader into this online course structure. If you plan on using nbgrader, you'd therefore need to send out and collect the assignments from your students via e-mail, discord, etc.\n",
    "\n",
    "**For an introduction and demonstration of nbgrader’s core functionality, check out the Scipy 2017 talk by [Jessica Hamrick](http://www.jesshamrick.com/)**\n",
    "\n",
    "<iframe frameborder=\"0\" scrolling=\"no\" marginheight=\"0\" marginwidth=\"0\"width=\"788.54\" height=\"443\" type=\"text/html\" src=\"https://www.youtube.com/embed/5WUm0QuJdFw?autoplay=0&fs=0&iv_load_policy=3&showinfo=0&rel=0&cc_load_policy=0&start=0&end=0&origin=http://youtubeembedcode.com\"></iframe>\n",
    "\n",
    "There are two great **in-depth tutorials on how to create and grade assignments using nbgrader** out there. Do check them and their philosophy out if you want to implement this approach in your work:\n",
    "\n",
    "- [Teaching with nbgrader (Collaborative Calculation and Data Science; cocalc)](https://doc.cocalc.com/teaching-nbgrader.html#)\n",
    "- [Nbgrader Docs](https://nbgrader.readthedocs.io/en/stable/index.html#)\n",
    "\n"
   ]
  }
 ],
 "metadata": {
  "kernelspec": {
   "display_name": "Python 3",
   "language": "python",
   "name": "python3"
  },
  "language_info": {
   "codemirror_mode": {
    "name": "ipython",
    "version": 3
   },
   "file_extension": ".py",
   "mimetype": "text/x-python",
   "name": "python",
   "nbconvert_exporter": "python",
   "pygments_lexer": "ipython3",
   "version": "3.8.10"
  },
  "vscode": {
   "interpreter": {
    "hash": "5289083c3f5abe312d701549a23d918d5df8d2bf6b85b22b433ed91977547b08"
   }
  }
 },
 "nbformat": 4,
 "nbformat_minor": 5
}

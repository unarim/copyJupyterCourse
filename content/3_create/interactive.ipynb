{
 "cells": [
  {
   "cell_type": "markdown",
   "id": "aa34306c",
   "metadata": {},
   "source": [
    "# Making Your Book Truly Interactive"
   ]
  },
  {
   "attachments": {},
   "cell_type": "markdown",
   "id": "281f8ff5",
   "metadata": {},
   "source": [
    "In the modern world, where information is abundant, and attention spans are short, `interactive content` has become a critical factor in successful education. Interactive content engages learners by providing an `immersive and engaging learning experience` that goes beyond passive consumption of information. Interactive content allows learners to actively participate in the learning process, making it more memorable and `increasing retention.` By combining various media, such as text, images, audio, video, and interactive elements, educators can provide a more comprehensive and engaging learning experience. Interactive content also enables learners to progress at their own pace, allowing them to focus on areas where they need more help and skip over content they already know. As such, interactive content is a `powerful tool for modern education` that can help learners retain information, stay engaged, and achieve better results.\n",
    "\n",
    "Previously, in this tutorial, we have described how `Jupyter Book performs exceptionally well` in providing the means for interactive content. But how do you make content like code cells or graphics interactive?\n",
    "\n",
    "In this part of the tutorial, you will learn just that!\n",
    "\n",
    "## Objectives 📍\n",
    "\n",
    "* Learn how to make your code cells run interactively\n",
    "* Learn how to embed interactive graphics in your book\n",
    "\n"
   ]
  },
  {
   "cell_type": "markdown",
   "id": "62713620",
   "metadata": {},
   "source": [
    "## MyBinder\n",
    "\n",
    "In today's digital age, there are many tools available for interactive learning, and one of the most exciting ones is MyBinder. MyBinder is a free and open-source service that allows users to create custom computing environments for their projects, experiments, and interactive learning activities. It allows users to create and share executable versions of their code in a reproducible and accessible format, enabling interactive learning experiences for students, researchers, and developers.\n",
    "\n",
    "MyBinder is built on top of Jupyter, an open-source web-based computing environment that enables interactive data science and scientific computing. MyBinder allows users to create a customized version of Jupyter, including their choice of libraries, programming languages, and data sets. Users can then share a link to their Binder environment, allowing others to reproduce and interact with their work.\n",
    "\n",
    "One of the primary benefits of MyBinder is its ease of use. It requires no installation, configuration, or maintenance of software, making it accessible to users of all skill levels. Anyone with a web browser can access a MyBinder environment, making it an ideal platform for sharing interactive learning activities with a broader audience.\n",
    "\n",
    "Another significant advantage of MyBinder is its reproducibility. By sharing a Binder environment, users can ensure that their code, data, and results are all accessible and reproducible, even if they change or update their code in the future. This feature is especially important for researchers, who must ensure that their results are accurate and can be replicated by others.\n",
    "\n",
    "MyBinder is also an excellent tool for collaborative learning. It allows users to share their work with others, collaborate on projects, and learn from each other's code. Additionally, MyBinder can be used to teach programming and data science concepts in a hands-on, interactive way. Teachers can create Binder environments that provide students with everything they need to get started, including tutorials, data sets, and code examples."
   ]
  },
  {
   "cell_type": "markdown",
   "id": "6ca7c5b4",
   "metadata": {},
   "source": [
    "## The How-To\n",
    "\n",
    "One of the great things about Jupyter Book is that it allows users to integrate MyBinder environments directly into their books, allowing readers to interact with and run code directly from the book's pages.\n",
    "\n",
    "####  1. Setting up the MyBinder environment\n",
    "\n",
    "To integrate MyBinder into a Jupyter Book, the first step is to create a Binder environment using the MyBinder website. Once the environment is set up, the next step is to add a MyBinder badge to the Jupyter Book's repository. This badge is a clickable image that will launch the MyBinder environment when clicked.\n",
    "\n",
    "Visit [mybinder.org](mybinder.org), add the link to your GitHub repository and click on `launch`\n",
    "\n",
    "![MyBinder Set-Up](https://raw.githubusercontent.com/felixkoerber/jb/main/static/mybinder.png)\n",
    "#### 2. Changing the `_config.yml`\n",
    "\n",
    "To actually make your changes visible, you will have to modify the `_config.yml` file found in the lecture folder of the [template](https://github.com/M-earnest/course_template_diler), add the following bit of code:\n",
    "```# Launch button settings\n",
    "launch_buttons:\n",
    "  notebook_interface        : \"classic\"  # The interface interactive links will activate [\"classic\", \"jupyterlab\"]\n",
    "  binderhub_url             : \"https://mybinder.org\"  # The URL of the BinderHub (e.g., https://mybinder.org)\n",
    "  thebe                     : true  # Add a thebe button to pages (requires the repository to run on Binder)\n",
    "```\n",
    "\n",
    "![Launch MyBinder](https://raw.githubusercontent.com/felixkoerber/jb/main/static/Launch_binder.png)\n",
    "\n",
    "Now, both the `Binder`- and `Live Code` Badge are displayed on your Book and you should be good to go!\n",
    "\n",
    "\n"
   ]
  }
 ],
 "metadata": {
  "kernelspec": {
   "display_name": "Python 3 (ipykernel)",
   "language": "python",
   "name": "python3"
  },
  "language_info": {
   "codemirror_mode": {
    "name": "ipython",
    "version": 3
   },
   "file_extension": ".py",
   "mimetype": "text/x-python",
   "name": "python",
   "nbconvert_exporter": "python",
   "pygments_lexer": "ipython3",
   "version": "3.10.4"
  },
  "vscode": {
   "interpreter": {
    "hash": "5289083c3f5abe312d701549a23d918d5df8d2bf6b85b22b433ed91977547b08"
   }
  }
 },
 "nbformat": 4,
 "nbformat_minor": 5
}

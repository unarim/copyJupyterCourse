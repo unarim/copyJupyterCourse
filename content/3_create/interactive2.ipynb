{
 "cells": [
  {
   "cell_type": "markdown",
   "id": "aa34306c",
   "metadata": {},
   "source": [
    "# Making Your Book Truly Interactive"
   ]
  },
  {
   "cell_type": "markdown",
   "id": "281f8ff5",
   "metadata": {},
   "source": [
    "`Interactive content` plays an important role in effective education. It encourages `active participation` and helps learners understand and remember what they’ve learned more deeply. By combining media, such as text, images, audio, video, and interactive elements, you can offer a more dynamic and accessible learning experience. Interactivity also supports self-paced learning, allowing individuals to focus on the areas where they need the most practice. As a result, interactive content is a useful tool for keeping learners engaged and improving outcomes.\n",
    "\n",
    "Earlier in this tutorial, we discussed how `Jupyter Books` supports interactive content. Now, we will explore how to make learning elements like code cells, graphics, and demonstrations __truly interactive.__ \n",
    "\n",
    "## Objectives 📍\n",
    "\n",
    "By the end of this section, you will be able to:\n",
    "\n",
    "* __Create progress-check questions__ with dynamic feedback\n",
    "* __Add multiple-choice, Likert-scale, and open-ended questions__\n",
    "* __Integrate interactive demonstrations__ to reinforce concepts\n",
    "* __Use interactivity__ to make content more personalized and effective\n"
   ]
  },
  {
   "cell_type": "markdown",
   "id": "9ed0da69",
   "metadata": {},
   "source": [
    "### The Limitations GitHub Pages 🚧\n",
    "\n",
    "While GitHub Pages is a powerful way to host educational resources, it is fundamentally a `static site generator`. This means it can render and display `HTML`, `Markdown`, `Jupyter Books`, and and other `media`, but only in __static form__. It cannot execute a code or respond to user input in real time. \n",
    "\n",
    "* __Code cells__ cannot run directly on a GitHub Pages site.\n",
    "* __Dynamic visualizations__ won’t work natively.\n",
    "* __Interactive widgets__ and real-time feedback elements will appear static.\n",
    "\n",
    "This limitation can be a barrier to effective engagement, especially when learners need to test code, manipulate inputs, or receive personalized feedback based on their answers."
   ]
  },
  {
   "cell_type": "markdown",
   "id": "62713620",
   "metadata": {},
   "source": [
    "### Enter MyBinder: Making GitHub-Hosted Notebooks Interactive 🛠️\n",
    "\n",
    "To overcome the limitations of static sites, <mark><strong>MyBinder</strong></mark> provides an elegant solution. \n",
    "\n",
    "MyBinder is a free and open-source service that runs on Jupyter Notebooks __without requiring any local installation__. It allows users to create share __live__ versions of notebooks for delivering interactive learning activities. You can configure MyBinder with a specific environment, datasets, and code to ensure reproducibility.\n",
    "\n",
    "MyBinder enables:\n",
    "\n",
    "* Interactive code execution\n",
    "* Customized environments with specific libraries\n",
    "* Zero-install learning experiences for readers"
   ]
  },
  {
   "cell_type": "markdown",
   "id": "6baa77a9",
   "metadata": {},
   "source": [
    "### How MyBinder Enhances Interactivity 🔄\n",
    "\n",
    "Built on Jupyter, MyBinder supports custom environments with specific libraries, datasets, and code. You can __create and share a link__ that launches a ready-to-use version of your content.\n",
    "\n",
    "MyBinder plays a key role in delivering the interactive elements discussed earlier. It can enable:\n",
    "\n",
    "* __Progeress check__ with short formative questions placed throughout the content\n",
    "\n",
    "* __Feedback and self-assessment__ using __Likert-scale items__\n",
    "\n",
    "* __Critical thinking__ through open-ended prompts\n",
    "\n",
    "* __Support reflection and engagement__ using expandable hints, tips, or answer reveals\n",
    "\n",
    "These interactive elements can be placed in your Jupyter Book and will work seamlessly when launched through MyBinder, enabling fully interactive learning sessions directly in the browser."
   ]
  },
  {
   "cell_type": "markdown",
   "id": "6ca7c5b4",
   "metadata": {},
   "source": [
    "## How to Create a MyBinder Link for GitHub-hosted Jupyter Notebooks\n",
    "\n",
    "One of the most powerful features of Jupyter Book is the ability to integrate MyBinder, letting readers run code from the book’s pages with no local setup required. \n",
    "\n",
    "Below is a step-by-step guide to setting up MyBinder — and why you may want to do so selectively.\n",
    "\n",
    "####  1. Setting up the MyBinder environment\n",
    "\n",
    "1. Go to [mybinder.org](mybinder.org)\n",
    "2. Enter your GitHub reposotory\n",
    "3. Click `Lauch` to test your environment\n",
    "\n",
    "![MyBinder Set-Up](https://raw.githubusercontent.com/felixkoerber/jb/main/static/mybinder.png)\n",
    "\n",
    "Once it successfully launches, copy the `MyBinder URL` or `Binder badge code`. \n",
    "The badge is a clickable image that opens the environment when clicked. You can add this badge to your Jupyter Book’s README or any .md/.ipynb file to give readers direct access.\n",
    "\n",
    "#### 2. Changing the `_config.yml`\n",
    "To make interactive buttons appear within Jupyter Book pages, modify the _config.yml file_ found in the lecture folder add the following bit of code:\n",
    "\n",
    "```# Launch button settings\n",
    "launch_buttons:\n",
    "  notebook_interface        : \"classic\" # Or jupyterlab\n",
    "  binderhub_url             : \"https://mybinder.org\"  \n",
    "  thebe                     : true  \n",
    "```\n",
    "\n",
    "`notebook_interface`: Specifies the interface (classic Jupyter vs. JupyterLab).\n",
    "\n",
    "`binderhub_url`: Points to the Binder service you’re using (normally https://mybinder.org).\n",
    "\n",
    "`thebe: true`: Enables Thebe, allowing in-page execution of code cells via Binder.\n",
    "\n",
    "Now, both the `Binder`- and `Live Code` Badge are displayed on your Book and you should be good to go!"
   ]
  },
  {
   "cell_type": "markdown",
   "id": "376fa6b7",
   "metadata": {},
   "source": [
    "## Why This Approach Isn’t Always Ideal ⚠️\n",
    "\n",
    "Although making your entire book interactive with Binder is powerful, it also has significant downsides that can affect user experience, performance, and scalability:\n",
    "\n",
    "❌ __1. Binder Can Be Slow and Unreliable__\n",
    "\n",
    "* Launching Binder can take 30–90 seconds.\n",
    "* It runs on limited, shared resources.\n",
    "* Sessions may disconnect or time out.\n",
    "\n",
    "❌ __2. Not All Pages Need Interactivity__\n",
    "\n",
    "* Static pages like theory, instructions, and reading material don’t need an active Binder kernel.\n",
    "* Enabling intractivity through Binder on every page adds unnecessary overhead without real benefits.\n",
    "\n",
    "❌ __3. Launching the Entire Reposotory is not User-Friendly__\n",
    "\n",
    "* Binder opens the file browser with all files visible.\n",
    "* Learners may not know which file to open or how to proceed.\n",
    "\n",
    "➡️ __A better user experience often comes from launching specific notebooks with clearly labeled Binder links, rather than the entire repository.__"
   ]
  },
  {
   "cell_type": "markdown",
   "id": "6f696293",
   "metadata": {},
   "source": [
    "## A Better Practice: Use Standalone Interactive Notebooks for Specific Tasks 🎯\n",
    "\n",
    "Instead of enabling interactivity across your entire course, a more effective approach is to __designate specific notebooks__ for interactive elements and place them exactly where they are needed. These notebooks:\n",
    "\n",
    "* __Do not__ form part of the main course structure in `_toc.yml`.\n",
    "* __Do__ serve targeted purposes like quick demos, progress questions, or simulations.\n",
    "* __Live__ in a separate folder (e.g., `extras/`, `binder/`, or `interactives/`).\n",
    "* __Are linked directly__ from relevant sections of your course with explicit Binder links.\n",
    "\n",
    "This way, readers can quickly launch the notebooks that require interactivity without cluttering or slowing down the entire book. It also provides a more __guided__ experience, focusing attention on the exact tasks that benefit from running code.\n",
    "\n",
    "Examples include:\n",
    "* Quick demonstrations of key concepts\n",
    "* Self-paced progress questions\n",
    "* Short multiple-choice quizzes to reinforce concepts\n",
    "* Interactive simulations or visualizations\n",
    "\n",
    "By keeping your main book static and only linking to Binder for specific, high-value interactive experiences, you achieve better performance, lower confusion, and targeted engagement — making for an overall more effective learning environment.\n",
    "\n",
    "### Below you will find demonstrations for the types of interactive possible to create:\n",
    "\n",
    "[🚀 Quadratic Equation Demo](https://mybinder.org/v2/gh/unarim/copyJupyterCourse/main/?urlpath=voila%2Frender%2Finteractives%2FmathDemo.ipynb)\n",
    "\n",
    "[🚀 Visual Search Paradigm Demo](https://mybinder.org/v2/gh/unarim/copyJupyterCourse/main/?urlpath=voila%2Frender%2Finteractives%2FvisualSearch.ipynb)"
   ]
  }
 ],
 "metadata": {
  "kernelspec": {
   "display_name": "Python 3 (ipykernel)",
   "language": "python",
   "name": "python3"
  },
  "language_info": {
   "codemirror_mode": {
    "name": "ipython",
    "version": 3
   },
   "file_extension": ".py",
   "mimetype": "text/x-python",
   "name": "python",
   "nbconvert_exporter": "python",
   "pygments_lexer": "ipython3",
   "version": "3.9.12"
  },
  "vscode": {
   "interpreter": {
    "hash": "5289083c3f5abe312d701549a23d918d5df8d2bf6b85b22b433ed91977547b08"
   }
  }
 },
 "nbformat": 4,
 "nbformat_minor": 5
}

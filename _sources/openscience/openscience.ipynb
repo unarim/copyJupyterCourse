{
 "cells": [
  {
   "attachments": {},
   "cell_type": "markdown",
   "id": "96e07ee5",
   "metadata": {},
   "source": [
    "# Open-Science"
   ]
  },
  {
   "cell_type": "markdown",
   "id": "b2309237",
   "metadata": {},
   "source": [
    "content:\n",
    "\n",
    "   - what is open science\n",
    "   - science and values?\n",
    "   - why should i care\n",
    "   - what is the benefit?\n",
    "   - how can i do that\n",
    "   - go fair?\n",
    "   - commitment statement\n",
    "       - https://plos.org/commit-to-openness/"
   ]
  },
  {
   "cell_type": "markdown",
   "id": "719cf9cf",
   "metadata": {},
   "source": [
    "ressources and further info:\n",
    "\n",
    "- https://www.cos.io/\n",
    "- osf.io\n",
    "- https://www.go-fair.org/fair-principles/\n",
    "- local: \n",
    "    - https://frankfurt-osi.netlify.app/\n",
    "    - https://www.ub.uni-frankfurt.de/veranstaltungen/open-science2022.html"
   ]
  }
 ],
 "metadata": {
  "kernelspec": {
   "display_name": "Python 3",
   "language": "python",
   "name": "python3"
  },
  "language_info": {
   "codemirror_mode": {
    "name": "ipython",
    "version": 3
   },
   "file_extension": ".py",
   "mimetype": "text/x-python",
   "name": "python",
   "nbconvert_exporter": "python",
   "pygments_lexer": "ipython3",
   "version": "3.10.4"
  },
  "vscode": {
   "interpreter": {
    "hash": "d560ba8d507c54a01f2f7ed33b1ad7c3fc56f06723f11412b74cfa1ed27a6faa"
   }
  }
 },
 "nbformat": 4,
 "nbformat_minor": 5
}

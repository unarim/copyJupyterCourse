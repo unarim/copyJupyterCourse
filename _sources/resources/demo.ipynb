{
 "cells": [
  {
   "cell_type": "markdown",
   "metadata": {},
   "source": [
    "# Further courses under the DiLER project"
   ]
  },
  {
   "cell_type": "markdown",
   "metadata": {},
   "source": [
    "The *DiLER Project* has produced and maintains multiple resources for individuals interested in modern and flexible teaching, digital literacy, and more specific courses centered around empirical research in psychology/neuroscience. Feel free to check them out and integrate some of our material in your courses (giving apropraite credit) of course.\n",
    "\n",
    "We hope that you find these resources useful and enjoyable. If you have any questions or feedback or are interested in collaboration, please do not hesitate to reach out to [us](https://felixkoerber.github.io/jb/overview.html#how-to-reach-the-content-creators).\n",
    "\n",
    "\n",
    "## Tutorials\n",
    "[**How to use Jupyter Book for modern, flexible teaching**](https://github.com/felixkoerber/jb)\n",
    "*Get started with using Jupyter Book to create beautiful, interactive books and documents. This tutorial will guide you through the process of using Jupyter Book to produce dynamic content that is perfect for modern teaching.*\n",
    "\n",
    "[**Course Template**](https://github.com/M-earnest/course_template_diler)\n",
    "*This course template is designed to make it easy for you to create a course that is well-structured, easy to navigate, and visually appealing. The template includes all of the necessary components for a complete course, including slides, handouts, assignments, and more.*\n",
    "\n",
    "## Digital literacy\n",
    "\n",
    "[**Course for digital literacy**](https://m-earnest.github.io/Diler_digital_literacy)\n",
    "*In today's digital world, it is essential to have a basic understanding of the technologies and tools that we use on a daily basis. This course is designed to give you an overview of the most important concepts and skills in digital literacy.*\n",
    "\n",
    "## University Courses\n",
    "\n",
    "[**Cognitive & computational neuroscience: an introduction to machine/deep learning and neuro-data-science**](https://peerherholz.github.io/Cog_Com_Neuro_ML_DL/)\n",
    "*This course provides an introduction to the field of cognitive and computational neuroscience, with a focus on the use of machine and deep learning techniques to analyze neuroscientific data.*\n",
    "\n",
    "[**Python for Psychologists**](https://peerherholz.github.io/Python_for_Psychologists_Winter2021)\n",
    "*This course is designed for psychologists and other behavioral scientists who are interested in using Python for their research. The course covers the basics of Python programming, including data structures, control structures, and functions, as well as more advanced topics such as data analysis and visualization.*\n",
    "\n",
    "[**Course on Empirical Research in Neurocognitive Psychology**](https://peerherholz.github.io/EXPRA_Winter2021)\n",
    "*This course provides an introduction to the methods and techniques used in empirical research in neurocognitive psychology. Topics covered include experimental design, data collection and analysis, and the interpretation of results.*\n",
    "\n",
    "\n"
   ]
  }
 ],
 "metadata": {
  "kernelspec": {
   "display_name": "Python 3 (ipykernel)",
   "language": "python",
   "name": "python3"
  },
  "language_info": {
   "codemirror_mode": {
    "name": "ipython",
    "version": 3
   },
   "file_extension": ".py",
   "mimetype": "text/x-python",
   "name": "python",
   "nbconvert_exporter": "python",
   "pygments_lexer": "ipython3",
   "version": "3.7.6"
  },
  "vscode": {
   "interpreter": {
    "hash": "d560ba8d507c54a01f2f7ed33b1ad7c3fc56f06723f11412b74cfa1ed27a6faa"
   }
  },
  "widgets": {
   "application/vnd.jupyter.widget-state+json": {
    "state": {},
    "version_major": 2,
    "version_minor": 0
   }
  }
 },
 "nbformat": 4,
 "nbformat_minor": 4
}

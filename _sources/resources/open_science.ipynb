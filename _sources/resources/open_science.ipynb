{
 "cells": [
  {
   "cell_type": "markdown",
   "id": "83fc1f3f",
   "metadata": {},
   "source": [
    "# Open Science\n",
    "\n"
   ]
  },
  {
   "cell_type": "markdown",
   "id": "c4c80968",
   "metadata": {},
   "source": [
    "\n",
    "\n",
    "Open science is a movement that aims to make science, research and data accessible to everyone, with the goal of improving transparency, reproducibility, collaboration, as well as equality in the scientific community/academia. Open science further often involves the aim to establish best research practices and to develop tools and infrastructure to support sharing data, scientific output and educational ressources.\n",
    "\n",
    "Many institutions have adopted the practice of implementing an open science pledge or statement, enshrining the ethics of open science into their academic practices.\n",
    "Feel free to integrate the statements and guidelines below or include a short statement on the values of open science into your courses!\n",
    "\n",
    "**The essential guide on how and why to make research open and reproducible was provided by the [Turing way]:**\n",
    "\n",
    "For in-depth knowledge or adapting elements of open science and reproducibility into your courses head over to the [Turing way website](https://the-turing-way.netlify.app/reproducible-research/reproducible-research.html)\n",
    "\n",
    "### Open Science declarations\n",
    "Several open science statements have been developed by various organizations, institutions, and groups to promote open science practices. Some of the most commonly referenced open science statements include:\n",
    "\n",
    "[Berlin Declaration on Open Access to Knowledge in the Sciences and Humanities](https://openaccess.mpg.de/Berlin-Declaration): The Berlin Declaration is one of theone of the milestones of the Open Access movement. It advocates for open access to scientific research and was signed in 2003 by representatives of research organizations, universities, and funding agencies from around the world.\n",
    "\n",
    "\n",
    "[Open Science for the 21 st century](https://www.allea.org/wp-content/uploads/2015/09/OpenScience-Rome-Declaration-final_web.pdf): An declaration by all european academies, hosted by the European Federation of National Academies of Sciences and Humanities. Enshrines the aim of european countries to commit themselves to promote the practical applications of open science principles within their national arenas of activity, and to jointly advocate for their adoption in the international domain.\n",
    "\n",
    "[The mission statment of the center for open science](https://www.cos.io/about/mission):\n",
    "Constituting a vision of a future scholarly community, in which process, content, and outcome of research are openly accessible by default to everyone.\n",
    "\n",
    "\n",
    "Many universities have additionally developed their own open science statements, e.g. \n",
    "- [McGilll University](https://www.mcgill.ca/neuro/open-science/open-science-principles)\n",
    "- [Oxford](https://www.ox.ac.uk/research/support-researchers/open-research)\n",
    "\n",
    "\n",
    "### Open science initatives\n",
    "Most universities have already implemented an open science intitative, that is one google search away, e.g. the [OSI of the Goethe-University](https://frankfurt-osi.netlify.app/). \n",
    "\n",
    "\n",
    "\n",
    "### Open science guidelines\n",
    "Further there have been a number of Guidelines that have been develop to help make academia/science more transparent and accesible, as well as improving reproducibility and discoverability of sceintifc works.\n",
    "\n",
    "[FAIR principles](https://www.go-fair.org/fair-principles/): The FAIR principles stand for Findable, Accessible, Interoperable, and Reusable. These principles aim to make research data more accessible and reusable by promoting the use of standardized metadata, persistent identifiers, and open data formats. Allowing research not only to be shared, but also to be actually found.\n",
    "\n",
    "[TOP guidelines](https://www.cos.io/initiatives/top-guidelines): The Transparency and Openness Promotion (TOP) guidelines were developed by the Center for Open Science to promote transparency and reproducibility in research. The guidelines provide a framework for researchers to enhance the transparency of their work, with recommendations for data sharing, pre-registration, and reporting standards.\n",
    "\n"
   ]
  },
  {
   "cell_type": "markdown",
   "id": "5fd2b336",
   "metadata": {},
   "source": [
    "### Open Brain Consent Form\n",
    "\n",
    "[Make open data sharing a no-brainer for ethics committees](https://open-brain-consent.readthedocs.io/en/stable/index.html).\n",
    "\n",
    "Research especially in pschology or neuroscience is often dependent on the collection of new data from human subjects. Given the complexities of the (german) General Data Protection Regulation [(GDPR)](https://gdpr-info.eu/) and to avoid tassles with the local ethics comittees the \"Open Brain Consent Form\" was created to be ethically and legally waterproof, while allowing researchers to openly share their collected datasets. While the document was developed for neuroimaging studies it can be adapted to most forms of data with little effort.\n",
    "\n",
    "**As we are comitted to research transaprency and open sciene we advise you to make use of this document for your own research.**\n",
    "\n",
    "\n",
    "**GDPR conform:**\n",
    "\n",
    "[German version](https://open-brain-consent.readthedocs.io/en/stable/gdpr/i18n/ultimate_gdpr.de.html)\n",
    "\n",
    "[English version (GDPR)](https://open-brain-consent.readthedocs.io/en/stable/gdpr/ultimate_gdpr.html#english)\n",
    "\n",
    "**Outside of germany:**\n",
    "\n",
    "[Ultimate brain consent form](https://open-brain-consent.readthedocs.io/en/stable/ultimate.html)\n",
    "\n",
    "\n",
    "\n",
    "**When using this template please acknowledge the creators accordingly:**\n",
    "\n",
    "Open Brain Consent working group (2021). The Open Brain Consent: Informing research participants and obtaining consent to share brain imaging data. Human Brain Mapping, 1-7 https://doi.org/10.1002/hbm.25351.\n"
   ]
  }
 ],
 "metadata": {
  "kernelspec": {
   "display_name": "Python 3 (ipykernel)",
   "language": "python",
   "name": "python3"
  },
  "language_info": {
   "codemirror_mode": {
    "name": "ipython",
    "version": 3
   },
   "file_extension": ".py",
   "mimetype": "text/x-python",
   "name": "python",
   "nbconvert_exporter": "python",
   "pygments_lexer": "ipython3",
   "version": "3.7.6"
  }
 },
 "nbformat": 4,
 "nbformat_minor": 5
}

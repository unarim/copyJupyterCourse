{
 "cells": [
  {
   "cell_type": "markdown",
   "id": "454a63cd",
   "metadata": {},
   "source": [
    "# Science in the Digital Age"
   ]
  },
  {
   "cell_type": "markdown",
   "id": "23491a5f",
   "metadata": {},
   "source": [
    "The following paragraphs will provide a number of illustrations and starting points to illustrate how todays research process should or could be structured.\n",
    "\n"
   ]
  }
 ],
 "metadata": {
  "kernelspec": {
   "display_name": "Python 3 (ipykernel)",
   "language": "python",
   "name": "python3"
  },
  "language_info": {
   "codemirror_mode": {
    "name": "ipython",
    "version": 3
   },
   "file_extension": ".py",
   "mimetype": "text/x-python",
   "name": "python",
   "nbconvert_exporter": "python",
   "pygments_lexer": "ipython3",
   "version": "3.7.6"
  }
 },
 "nbformat": 4,
 "nbformat_minor": 5
}

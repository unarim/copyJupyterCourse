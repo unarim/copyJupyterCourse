{
 "cells": [
  {
   "cell_type": "markdown",
   "id": "d052fbfc",
   "metadata": {},
   "source": [
    "# BASH, Terminal & Shell\n",
    "\n",
    "What is bash?\n",
    "\n",
    "Why do we need it?\n",
    "\n",
    "\n",
    "If Unix-based system:\n",
    "- open shell -> do stuff\n",
    "\n",
    "\n",
    "If windows based system we'll need a work-around to start working with bash:\n",
    "- Use VsCode\n",
    "    - press & hold _Ctrl + `` to open a terminal\n",
    "    - Open the command palette using `Ctrl + Shift + P`\n",
    "    - Type - `Select Default Profile`\n",
    "    - Select  `GitBash` from the options\n",
    "    - Click the `+` icon in the terminal window\n",
    "    - Give it a few secs to load Git Bash"
   ]
  }
 ],
 "metadata": {
  "kernelspec": {
   "display_name": "Python 3 (ipykernel)",
   "language": "python",
   "name": "python3"
  },
  "language_info": {
   "codemirror_mode": {
    "name": "ipython",
    "version": 3
   },
   "file_extension": ".py",
   "mimetype": "text/x-python",
   "name": "python",
   "nbconvert_exporter": "python",
   "pygments_lexer": "ipython3",
   "version": "3.7.6"
  }
 },
 "nbformat": 4,
 "nbformat_minor": 5
}

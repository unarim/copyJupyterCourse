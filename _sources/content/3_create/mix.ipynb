{
 "cells": [
  {
   "cell_type": "markdown",
   "metadata": {},
   "source": [
    "# Mixing Static Content with Interactive Elements\n",
    "\n",
    "So far, everything we’ve done has involved creating **individual links** to different interactive parts:\n",
    "\n",
    "* A link for your multiple-choice quiz  \n",
    "* A link for your open-ended question notebook  \n",
    "* A link for your Likert self-check\n",
    "\n",
    "Sometimes, you do not want to split your learning material into multiple linked parts.  \n",
    "You want **everything in one place** — the explanations, the visuals, and the interactive elements.\n",
    "\n",
    "\n",
    "## The Ideal Format\n",
    "\n",
    "Use a single Jupyter Notebook that:\n",
    "\n",
    "- Contains static content in **Markdown cells**: explanations, headers, instructions, diagrams, etc.\n",
    "\n",
    "- Embeds **interactive widgets** (multiple choice questions, open-ended questions, Likert-scale questions) directly in between your sections.\n",
    "\n",
    "- Is rendered as a clean, app-like experience using **MyBinder**.\n",
    "\n",
    "\n",
    "## How to Do It\n",
    "\n",
    "1. Organize your Jupyter notebook like a **chapter**:\n",
    "\n",
    "   * Title and learning objectives (Markdown)\n",
    "   * Explanation of the concept (Markdown)\n",
    "   * Embedded multiple choice or open-ended questions (Code cell)\n",
    "   * Visual or image (Markdown or code)\n",
    "   * Likert scale reflection (Code cell)\n",
    "\n",
    "2. Keep everything in one `.ipynb` file.\n",
    "\n",
    "3. Push it to GitHub.\n",
    "\n",
    "4. Launch it using Voila on MyBinder like this:\n",
    "\n",
    "```markdown\n",
    "# Course Dashboard\n",
    "\n",
    "- [Interactive Lesson 1](https://mybinder.org/v2/gh/your_user_name/yourCourse/main/?urlpath=voila%2Frender%2Finteractives%2Finteractive_lesson_1.ipynb)\n",
    "- [Interactive Lesson 2](https://mybinder.org/v2/gh/your_user_name/yourCourse/main/?urlpath=voila%2Frender%2Finteractives%2Finteractive_lesson_2.ipynb)\n",
    "- [Interactive Lesson 3](https://mybinder.org/v2/gh/your_user_name/yourCourse/main/?urlpath=voila%2Frender%2Finteractives%2Finteractive_lesson_3.ipynb)\n",
    "```\n"
   ]
  },
  {
   "cell_type": "markdown",
   "metadata": {},
   "source": []
  }
 ],
 "metadata": {
  "language_info": {
   "name": "python"
  }
 },
 "nbformat": 4,
 "nbformat_minor": 2
}

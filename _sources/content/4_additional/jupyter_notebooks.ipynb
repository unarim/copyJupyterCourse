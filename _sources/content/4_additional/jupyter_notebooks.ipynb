{
 "cells": [
  {
   "attachments": {},
   "cell_type": "markdown",
   "id": "aa34306c",
   "metadata": {},
   "source": [
    "# Cells in Jupyter Notebooks: Types and Usages"
   ]
  },
  {
   "attachments": {},
   "cell_type": "markdown",
   "id": "55b455a7",
   "metadata": {},
   "source": [
    "As outlined previously, Jupyter Book allows for the integration of .ipybn files (better known as Jupyter Notebooks), which are a flexible solution for writing both *code* (Julia, Python, and R) or in *Markdown* (MyST) in one document. \n",
    "\n"
   ]
  },
  {
   "cell_type": "markdown",
   "id": "c0e35f1f",
   "metadata": {},
   "source": [
    "```{note}\n",
    "the name **Jupyter**  references the three programming languages supported by Jupyter: **Julia, Python and R**\n",
    "```"
   ]
  },
  {
   "attachments": {},
   "cell_type": "markdown",
   "id": "f7554792",
   "metadata": {},
   "source": [
    "Jupyter Notebooks are organized in a sequence of \"cells\", each cell can consist of multi-line content. Depending on the type of cell, the behavior changes if the cell type is changed. There are three types of cells: **code cells, markdown cells, and raw cells** (raw cells probably won't be of high significance for building courses). Every cell starts off as a code cell but can be changed depending on the program you are using: \n",
    "\n"
   ]
  },
  {
   "attachments": {},
   "cell_type": "markdown",
   "id": "09caa3d7",
   "metadata": {},
   "source": [
    "### .iypbn vs .md - When should we use what?\n",
    "\n",
    "|.ipynb|.md (Markdown)|\n",
    "|---|---|\n",
    "|`.ipynb` files are Jupyter Notebook files and are primarily used for interactive data science and scientific computing. They allow for the combination of code, text, and visualizations all in one place, making it easy to document and share code-driven projects. Data scientists and researchers often use them to share their work with others, and they can be easily converted to other formats like .html or .pdf for sharing.|`.md` files are Markdown files, which are primarily used for creating simple, easy-to-read documents. They use a simple syntax for formatting text and are often used for documentation, READMEs, and other text-based content types. They are also commonly used in conjunction with version control systems like Git and can be easily rendered on various platforms.|\n",
    "|**.ipynb files are best for interactive, code-driven projects**|**.md files are best for documentation, READMEs, and other types of text-based content**|\n",
    "\n"
   ]
  },
  {
   "cell_type": "markdown",
   "id": "e65e86f7",
   "metadata": {},
   "source": [
    "### Markdown Cells\n",
    "\n",
    "`Text` can be added to `IPython Notebooks` using `Markdown cells`. `Markdown` is a popular `markup language` that is a `superset of HTML.` Its specifications can be found here:\n",
    "\n",
    "http://daringfireball.net/projects/markdown/\n",
    "\n",
    "You can view the `source` of a `cell` by `double clicking` on it, or while the `cell` is selected in `command mode,` press `Enter` to edit it. Once a `cell` has been `edited,` use `Shift-Enter` to `re-render` it.\n",
    "\n"
   ]
  },
  {
   "attachments": {},
   "cell_type": "markdown",
   "id": "fafb8a00",
   "metadata": {},
   "source": [
    "### Local files\n",
    "\n",
    "If you have `local files` in your `Notebook directory,` you can refer to these `files` in `Markdown cells` directly:\n",
    "\n",
    "    [subdirectory/]<filename>\n",
    "\n",
    "For example, in the `static folder,` we have the `logo`:\n",
    "\n",
    "    <img src=\"static/logo.png\" />\n",
    "\n",
    "<img src=\"https://raw.githubusercontent.com/felixkoerber/DiLER/main/logo.png?token=GHSAT0AAAAAAB5F5K47KHDZYVJ6AMMHOEIUY7BIDNA\" width=300 />\n",
    "\n",
    "These do not `embed` the data into the `notebook file,` and require that the `files` exist when you are viewing the `notebook.`\n",
    "\n"
   ]
  },
  {
   "attachments": {},
   "cell_type": "markdown",
   "id": "5d10b339",
   "metadata": {},
   "source": [
    "### Security of local files\n",
    "\n",
    "Note that the `IPython notebook server` also acts as a `generic file server` for `files` inside the same `tree` as your `notebooks.` Access is not granted outside the `notebook` folder, so you have strict control over what `files` are `visible,` but for this reason **it is highly recommended that you do not run the notebook server with a notebook directory at a high level in your filesystem (e.g., your home directory)**.\n",
    "\n",
    "When you run the `notebook` in a `password-protected` manner, `local file` access is `restricted` to `authenticated users` unless `read-only views` are active.\n",
    "\n"
   ]
  },
  {
   "attachments": {},
   "cell_type": "markdown",
   "id": "65626649",
   "metadata": {},
   "source": [
    "### Code cells\n",
    "\n",
    "When executing code in `IPython`, all valid `Python syntax` works as-is, but `IPython` provides a number of `features` designed to make the `interactive experience` more `fluid` and `efficient`. First, we need to explain how to run `cells.` Try to run the `cell` below!\n",
    "\n"
   ]
  },
  {
   "cell_type": "code",
   "execution_count": 1,
   "id": "d03d8c52",
   "metadata": {},
   "outputs": [
    {
     "name": "stdout",
     "output_type": "stream",
     "text": [
      "Hi! This is a cell. Click on it and press the ▶ button above to run it\n"
     ]
    }
   ],
   "source": [
    "import pandas as pd\n",
    "\n",
    "print(\"Hi! This is a cell. Click on it and press the ▶ button above to run it\")"
   ]
  },
  {
   "attachments": {},
   "cell_type": "markdown",
   "id": "068682bd",
   "metadata": {},
   "source": [
    "You can also run a cell with `Ctrl+Enter` or `Shift+Enter.` Experiment a bit with that.\n",
    "\n"
   ]
  }
 ],
 "metadata": {
  "kernelspec": {
   "display_name": "Python 3",
   "language": "python",
   "name": "python3"
  },
  "language_info": {
   "codemirror_mode": {
    "name": "ipython",
    "version": 3
   },
   "file_extension": ".py",
   "mimetype": "text/x-python",
   "name": "python",
   "nbconvert_exporter": "python",
   "pygments_lexer": "ipython3",
   "version": "3.8.10"
  },
  "vscode": {
   "interpreter": {
    "hash": "5289083c3f5abe312d701549a23d918d5df8d2bf6b85b22b433ed91977547b08"
   }
  }
 },
 "nbformat": 4,
 "nbformat_minor": 5
}

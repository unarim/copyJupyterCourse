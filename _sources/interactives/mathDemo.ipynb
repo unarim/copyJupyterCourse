{
 "cells": [
  {
   "cell_type": "markdown",
   "id": "cad3738a",
   "metadata": {},
   "source": [
    "# Interactive Quadratic Function Demo\n",
    "\n",
    "Use the sliders below to explore how the parameters of a quadratic equation affect its graph:\n",
    "\\[\n",
    "y = ax^2 + bx + c\n",
    "\\]"
   ]
  },
  {
   "cell_type": "code",
   "execution_count": 1,
   "id": "828f58da",
   "metadata": {},
   "outputs": [
    {
     "data": {
      "application/vnd.jupyter.widget-view+json": {
       "model_id": "94e80422e64d4dc5a8d9e2475a06e000",
       "version_major": 2,
       "version_minor": 0
      },
      "text/plain": [
       "interactive(children=(FloatSlider(value=1.0, description='𝗮', max=5.0, min=-5.0), FloatSlider(value=0.0, descr…"
      ]
     },
     "metadata": {},
     "output_type": "display_data"
    },
    {
     "data": {
      "text/plain": [
       "<function __main__.plot_quadratic(a=1.0, b=0.0, c=0.0)>"
      ]
     },
     "execution_count": 1,
     "metadata": {},
     "output_type": "execute_result"
    }
   ],
   "source": [
    "import numpy as np\n",
    "import matplotlib.pyplot as plt\n",
    "from ipywidgets import interact, FloatSlider\n",
    "import warnings\n",
    "warnings.filterwarnings(\"ignore\")\n",
    "plt.style.use(\"seaborn-v0_8-whitegrid\")\n",
    "def plot_quadratic(a=1.0, b=0.0, c=0.0):\n",
    "    x = np.linspace(-10, 10, 400)\n",
    "    y = a * x**2 + b * x + c\n",
    "\n",
    "    plt.figure(figsize=(8, 5))\n",
    "    plt.plot(x, y, color = \"blue\", linewidth = 2)\n",
    "    plt.axhline(0, color='black', lw=1)\n",
    "    plt.axvline(0, color='black', lw=1)\n",
    "    plt.title(f'Quadratic Function: y = {a}x² + {b}x + {c}')\n",
    "    plt.xlabel('x')\n",
    "    plt.ylabel('y')\n",
    "    plt.grid(True)\n",
    "    plt.ylim(-10, 10)\n",
    "    plt.show()\n",
    "\n",
    "interact(\n",
    "    plot_quadratic,\n",
    "    a=FloatSlider(value=1, min=-5, max=5, step=0.1, description= '𝗮'),\n",
    "    b=FloatSlider(value=0, min=-5, max=5, step=0.5, description=r'𝗯'),\n",
    "    c=FloatSlider(value=0, min=-5, max=5, step=0.5, description=r'𝗰')\n",
    ")"
   ]
  },
  {
   "cell_type": "code",
   "execution_count": null,
   "id": "2d570d52",
   "metadata": {},
   "outputs": [],
   "source": [
    "\n"
   ]
  }
 ],
 "metadata": {
  "kernelspec": {
   "display_name": "base",
   "language": "python",
   "name": "python3"
  },
  "language_info": {
   "codemirror_mode": {
    "name": "ipython",
    "version": 3
   },
   "file_extension": ".py",
   "mimetype": "text/x-python",
   "name": "python",
   "nbconvert_exporter": "python",
   "pygments_lexer": "ipython3",
   "version": "3.12.3"
  }
 },
 "nbformat": 4,
 "nbformat_minor": 5
}

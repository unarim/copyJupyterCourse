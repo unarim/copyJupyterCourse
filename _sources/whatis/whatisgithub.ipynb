{
 "cells": [
  {
   "cell_type": "markdown",
   "id": "61fbf7de",
   "metadata": {},
   "source": [
    "# What is: GitHub"
   ]
  },
  {
   "attachments": {},
   "cell_type": "markdown",
   "id": "293cd6b9",
   "metadata": {},
   "source": [
    "GitHub is a platform that allows developers to store, share and collaborate on their code. It is built on top of the Git version control system, which is a tool that allows multiple people to work on the same codebase at the same time without causing conflicts.\n",
    "\n",
    "GitHub provides a web-based interface for developers to access their code and collaborate with others. They can create \"repositories\" to store their code, and invite others to collaborate on those repositories. This makes it easy for open-source projects to have multiple contributors from around the world.\n",
    "\n",
    "One of the key features of GitHub is its ability to track changes to code over time. Every time a developer makes a change to the code in a repository, they can \"commit\" those changes to the repository. This creates a new version of the code that is stored on GitHub, along with a message describing the changes that were made. This makes it easy for developers to see how the code has evolved over time, and to revert to an earlier version of the code if necessary.\n",
    "\n",
    "GitHub also provides a number of other features that are useful for developers. For example, it has built-in tools for tracking bugs and managing tasks, which can be used to keep track of issues with the code and plan future work. Additionally, it provides a feature called \"wikis\" which allows developers to create and edit documents that provide documentation and instructions for using their code.\n",
    "\n",
    "Overall, Github is a powerful platform for developers to host, share, collaborate, and document their projects. It is widely used by developers, data scientists, and other technical teams."
   ]
  }
 ],
 "metadata": {
  "kernelspec": {
   "display_name": "Python 3",
   "language": "python",
   "name": "python3"
  },
  "language_info": {
   "name": "python",
   "version": "3.8.10 (tags/v3.8.10:3d8993a, May  3 2021, 11:48:03) [MSC v.1928 64 bit (AMD64)]"
  },
  "vscode": {
   "interpreter": {
    "hash": "5289083c3f5abe312d701549a23d918d5df8d2bf6b85b22b433ed91977547b08"
   }
  }
 },
 "nbformat": 4,
 "nbformat_minor": 5
}

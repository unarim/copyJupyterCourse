{
 "cells": [
  {
   "cell_type": "markdown",
   "id": "bc249366",
   "metadata": {},
   "source": [
    "# What Is: Jupyter Book"
   ]
  }
 ],
 "metadata": {
  "language_info": {
   "name": "python"
  }
 },
 "nbformat": 4,
 "nbformat_minor": 5
}

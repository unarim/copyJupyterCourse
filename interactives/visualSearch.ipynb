{
 "cells": [
  {
   "cell_type": "markdown",
   "metadata": {},
   "source": [
    "# Visual Search Paradigm\n",
    "\n",
    "This task is based on classic visual search experiments in cognitive psychology. \n",
    "\n",
    "It tests how quickly and accurately you can detect a target (🔴 red circle in this case) among distractors. When the target \"pops out\" due to unique features, detection is fast (parallel search). When absent or similar to distractors, it takes longer (serial search). The task explores how attention works in simple vs. complex visual scenes.\n",
    "\n",
    "You can try the demo yourself and see how your attention and reaction time compare across different trials."
   ]
  },
  {
   "cell_type": "code",
   "execution_count": 1,
   "metadata": {},
   "outputs": [
    {
     "data": {
      "application/vnd.jupyter.widget-view+json": {
       "model_id": "33fe35a4f1e14a198b18787e3ccdf95e",
       "version_major": 2,
       "version_minor": 0
      },
      "text/plain": [
       "Output()"
      ]
     },
     "metadata": {},
     "output_type": "display_data"
    }
   ],
   "source": [
    "import time, random\n",
    "from IPython.display import display, HTML, clear_output\n",
    "import ipywidgets as widgets\n",
    "\n",
    "num_trials, grid_size = 10, 5\n",
    "results, trial_index = [], 0\n",
    "trials = ['present'] * 5 + ['absent'] * 5\n",
    "random.shuffle(trials)\n",
    "output = widgets.Output()\n",
    "display(output)\n",
    "\n",
    "def show_instructions():\n",
    "    instructions = \"\"\"\n",
    "    <h2>🔍 Visual Search Task</h2>\n",
    "    <p>Click <b>Start</b> to begin. In each trial, you’ll see a grid of colored shapes.\n",
    "       Your task is to detect whether a <b>RED circle (🔴)</b> is present. Be fast and accurate!</p>\n",
    "    \"\"\"\n",
    "    with output:\n",
    "        clear_output()\n",
    "        display(HTML(instructions))\n",
    "        start_btn = widgets.Button(description=\"Start\", button_style='success')\n",
    "        start_btn.on_click(lambda _: run_trial())\n",
    "        display(start_btn)\n",
    "\n",
    "def generate_grid(condition):\n",
    "    distractors = ['🟡', '🟢', '🔵', '🟤']\n",
    "    total_cells = grid_size ** 2\n",
    "    grid, target_added = [], False\n",
    "    for _ in range(total_cells):\n",
    "        if condition == 'present' and not target_added and random.random() < 0.1:\n",
    "            grid.append('🔴')\n",
    "            target_added = True\n",
    "        else:\n",
    "            grid.append(random.choice(distractors))\n",
    "    if condition == 'present' and not target_added:\n",
    "        grid[random.randint(0, total_cells - 1)] = '🔴'\n",
    "    rows = [' '.join(grid[i:i+grid_size]) for i in range(0, total_cells, grid_size)]\n",
    "    return '<br>'.join(rows)\n",
    "\n",
    "def run_trial():\n",
    "    global trial_index, start_time\n",
    "    if trial_index >= num_trials:\n",
    "        return show_results()\n",
    "    \n",
    "    condition = trials[trial_index]\n",
    "    grid_html = generate_grid(condition)\n",
    "    content = f\"\"\"\n",
    "    <h4>Trial {trial_index + 1}</h4>\n",
    "    <div style=\"font-size:28px; text-align:center; line-height:2.5; letter-spacing:15px;\">\n",
    "        {grid_html}\n",
    "    </div>\n",
    "    <p style=\"text-align:center;\">Is the red circle (🔴) present?</p>\n",
    "    \"\"\"\n",
    "    with output:\n",
    "        clear_output()\n",
    "        display(HTML(content))\n",
    "        btn_yes = widgets.Button(description=\"Target Present\", button_style='danger', layout=widgets.Layout(width='150px'))\n",
    "        btn_no = widgets.Button(description=\"Target Absent\", button_style='info', layout=widgets.Layout(width='150px'))\n",
    "        btn_yes.on_click(lambda _: record_response('present', condition))\n",
    "        btn_no.on_click(lambda _: record_response('absent', condition))\n",
    "        display(widgets.HBox([btn_yes, btn_no]))\n",
    "    start_time = time.time()\n",
    "\n",
    "def record_response(user_resp, correct_cond):\n",
    "    global trial_index\n",
    "    rt = round(time.time() - start_time, 3)\n",
    "    results.append({\n",
    "        'Trial': trial_index + 1,\n",
    "        'Condition': correct_cond.capitalize(),\n",
    "        'Response': user_resp.capitalize(),\n",
    "        'Correct': (user_resp == correct_cond),\n",
    "        'RT (s)': rt\n",
    "    })\n",
    "    trial_index += 1\n",
    "    run_trial()\n",
    "\n",
    "def show_results():\n",
    "    present_trials = [r for r in results if r['Condition'] == 'Present']\n",
    "    absent_trials = [r for r in results if r['Condition'] == 'Absent']\n",
    "    avg_rt = lambda data: round(sum(r['RT (s)'] for r in data)/len(data), 3) if data else 0\n",
    "    correct_pct = lambda data: f\"{round(100 * sum(r['Correct'] for r in data) / len(data), 1)}%\" if data else \"0%\"\n",
    "    results_html = f\"\"\"\n",
    "    <h2>✅ Task Complete!</h2>\n",
    "    <p><b>Target Present Trials:</b> {correct_pct(present_trials)} correct | Avg RT: {avg_rt(present_trials)} sec</p>\n",
    "    <p><b>Target Absent Trials:</b> {correct_pct(absent_trials)} correct | Avg RT: {avg_rt(absent_trials)} sec</p>\n",
    "    <hr>\n",
    "    <p>🧠 Did you find it easier or harder when the target was absent?</p>\n",
    "    \"\"\"\n",
    "    with output:\n",
    "        clear_output()\n",
    "        display(HTML(results_html))\n",
    "\n",
    "# Launch the task\n",
    "show_instructions()\n"
   ]
  }
 ],
 "metadata": {
  "kernelspec": {
   "display_name": "base",
   "language": "python",
   "name": "python3"
  },
  "language_info": {
   "codemirror_mode": {
    "name": "ipython",
    "version": 3
   },
   "file_extension": ".py",
   "mimetype": "text/x-python",
   "name": "python",
   "nbconvert_exporter": "python",
   "pygments_lexer": "ipython3",
   "version": "3.12.3"
  }
 },
 "nbformat": 4,
 "nbformat_minor": 2
}

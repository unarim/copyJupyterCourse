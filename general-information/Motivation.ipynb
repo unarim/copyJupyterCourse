{
 "cells": [
  {
   "cell_type": "markdown",
   "id": "bac01e70-de19-4023-afac-43f1c2f0a0da",
   "metadata": {},
   "source": [
    "# **Motivation/Why are we here?**"
   ]
  },
  {
   "cell_type": "markdown",
   "id": "fbe13642-d498-4b8f-971e-407ae39c8c34",
   "metadata": {},
   "source": [
    "What if your educational resources didn’t just teach today’s students, but were accessible, citable, and reproducible for future generations? \n",
    "Sounds good? Then keep listening.\n",
    "\n",
    "Since the beginning of the replication crisis at the latest, many universities have been striving to make research more open, inclusive, and FAIR. However, the traditional means of education (Moodle, OLAT, IlIAS, etc.) have significant limitations and stand in contrast to the goals of open and FAIR science. These proprietary means have several shortcomings, such as **limited access**, **high costs**, and **lack of interoperability**. For example, instructors may have to purchase expensive licenses for proprietary software, limiting their ability to create and share content freely. Additionally, proprietary software often locks users into a specific ecosystem, making it challenging to collaborate with others who use different tools or platforms. These limitations hinder the collaborative and adaptive learning experience that is critical for the modern world's educational needs.\n",
    "\n",
    "## What are the main problems with such an approach? \n",
    "- Content is exclusive in that it is only **accessible** to a privileged subgroup of students\n",
    "- Collaboration on learning content is limited\n",
    "- The learning content is difficult to cite\n",
    "- Learning content may have to be compiled anew for each cohort\n",
    "- It can be cumbersome to integrate interactive elements\n",
    "- As content is shared in cohort-specific groups, you may lose track of your content.\n",
    "\n",
    "What can we do to create learning materials that are interactive and public? Open Educational Resources! But how?\n",
    "\n",
    "## Our approach: \n",
    "We work with the **open source** tools [**Jupyter Books**](https://jupyter.org/) and [**GitHub**](https://github.com/), as well as [**GitHub Pages**](https://pages.github.com/), to facilitate the creation of **open** and **reusable** educational resources. \n",
    "\n",
    "### What are GitHub, GitHub and Jupyter Notebooks and why should I follow your approach exactly? \n",
    "Don't worry if you don't know these tools yet. That should change in the next 90 minutes (otherwise we would do a bad job). We have created a **template** that makes it easier for you to create open educational resources (OER) with the tools mentioned and that you can use for the creation of various learning content but also for **living publication/documentation** (for an example, click [here](https://oreoni.github.io/)). \n",
    "Our approach also offers a possible solution to the problems just mentioned:\n",
    "- Content is inclusive and **accessible** to anyone with a stable internet connection anywhere in the world, regardless of degree program, university, etc.\n",
    "- **Collaboration** on learning content is made much easier with GitHub\n",
    "- educational resources are easily citable\n",
    "- Learning content can be **reused**, but can also be easily adapted\n",
    "- Version control also makes older versions of the content **accessible**, which increases **transparency**\n",
    "- The use of Jupyter Notebook makes it easy to integrate interactive elements (live coding, videos, presentations, etc.)\n",
    "- By integrating the OER on your GitHub account, you can keep track of the learning content you have created\n",
    "\n",
    "As you can see, this is much more compatible with the goals of **open science** and [**FAIR**](https://doi.org/10.1038/sdata.2016.18  ) research.\n",
    "\n",
    "## How do we proceed?\n",
    "- Introduction in Jupyter Books and GitHub pages. \n",
    "    - What is possible\n",
    "    - How is the whole thing structured?\n",
    "- Practical guide\n",
    "    - Set up your own website with our template\n",
    "- summary\n",
    "- Discussion\n",
    "\n",
    "## What should have changed by the end of this course?\n",
    "it's also called learning objectives, I know\n",
    "\n",
    "- **Jupyter Notebooks /Books**\n",
    "    - Understand the concept\n",
    "    - Know how to work with it\n",
    "- **GitHub**\n",
    "    - Have your own account\n",
    "    - Be able to perform basic GitHub operations (cloning, forking etc.)\n",
    "- **Github pages**\n",
    "    - know why it is useful\n",
    "- understand why using these tools facilitates the creation of OER\n",
    "- understand why you should make the effort to work with these tools and create and share OER\n",
    "\n",
    "## Where is everything?\n",
    "\n",
    "All course materials will be available on this very course website. Everything will be completely open and free to use, thus constituting an open educational resource. You are free to explore, enhance, and share. Thus, this website and all materials will also remain up ideally to the end of the internet but will possibly be subject to changes and updates. If you feel the need to save this resource as it is at the moment you’re reading this, you can download the complete course from our GitHub repo [here](https://github.com/DiLER-Digitell/Jupyter-Book). The usage of this resource and the materials therein will be explained at the beginning and throughout the course.\n",
    "\n",
    "We will also be providing a course template that will serve as a tool for our practical examples and can be downloaded [here](https://github.com/DiLER-Digitell/Course-template). The template contains a folder structure, some example content files, a license, an open science statement, an equity, diversity, and inclusion statement, as well as a code of conduct for your course. This template is supposed to be used as a starting point to generate your own course. Simply add your content or adapt the preexisting resources, adapt the structure to your liking, and upload the whole thing into an online GitHub repository, and your course website will be created automatically.\n",
    "\n",
    "## Questions so far?\n",
    "## Let's get started!"
   ]
  },
  {
   "cell_type": "code",
   "execution_count": null,
   "id": "9ef14093-32e1-4a6e-b3cf-8ac50a77554c",
   "metadata": {},
   "outputs": [],
   "source": []
  }
 ],
 "metadata": {
  "kernelspec": {
   "display_name": "Python 3 (ipykernel)",
   "language": "python",
   "name": "python3"
  },
  "language_info": {
   "codemirror_mode": {
    "name": "ipython",
    "version": 3
   },
   "file_extension": ".py",
   "mimetype": "text/x-python",
   "name": "python",
   "nbconvert_exporter": "python",
   "pygments_lexer": "ipython3",
   "version": "3.11.6"
  }
 },
 "nbformat": 4,
 "nbformat_minor": 5
}
